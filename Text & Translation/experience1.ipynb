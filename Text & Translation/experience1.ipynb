{
 "cells": [
  {
   "cell_type": "code",
   "execution_count": 1,
   "source": [
    "# identification\r\n",
    "cog_key = ''\r\n",
    "cog_location = 'francecentral'\r\n",
    "print('Ready to use cognitive services in {} using key {}'.format(cog_location, cog_key))"
   ],
   "outputs": [
    {
     "output_type": "stream",
     "name": "stdout",
     "text": [
      "Ready to use cognitive services in francecentral using key ce11ad7e1ba74556863b4346523b9209\n"
     ]
    }
   ],
   "metadata": {}
  },
  {
   "cell_type": "code",
   "execution_count": 4,
   "source": [
    "# Create a function that makes a REST request to the Text Translation service\r\n",
    "def translate_text(cog_location, cog_key, text, to_lang='fr', from_lang='en'):    \r\n",
    "    import requests, uuid, json    \r\n",
    "    #Create the URL for the Text Translator service REST request    \r\n",
    "    path = 'https://api.cognitive.microsofttranslator.com/translate?api-version=3.0'    \r\n",
    "    params = '&from={}&to={}'.format(from_lang, to_lang)    \r\n",
    "    constructed_url = path + params    \r\n",
    "    \r\n",
    "    # Prepare the request headers with Cognitive Services resource key and region   \r\n",
    "    headers = {         'Ocp-Apim-Subscription-Key': cog_key,\r\n",
    "                        'Ocp-Apim-Subscription-Region':cog_location,\r\n",
    "                        'Content-type': 'application/json',\r\n",
    "                        'X-ClientTraceId': str(uuid.uuid4())\r\n",
    "                }    \r\n",
    "                \r\n",
    "    # Add the text to be translated to the body    \r\n",
    "    body = [{        \r\n",
    "        'text': text   \r\n",
    "            }]    \r\n",
    "            \r\n",
    "    # Get the translation    \r\n",
    "    \r\n",
    "    request = requests.post(constructed_url, headers=headers, json=body)    \r\n",
    "    response = request.json()    \r\n",
    "    return response[0][\"translations\"][0][\"text\"]\r\n",
    "    \r\n",
    "#Test the function\r\n",
    "text_to_translate = \"Hello\"\r\n",
    "\r\n",
    "translation = translate_text(cog_location, cog_key, text_to_translate, to_lang='fr', from_lang='en')\r\n",
    "print('{} -> {}'.format(text_to_translate,translation))"
   ],
   "outputs": [
    {
     "output_type": "stream",
     "name": "stdout",
     "text": [
      "Hello -> Bonjour\n"
     ]
    }
   ],
   "metadata": {}
  },
  {
   "cell_type": "code",
   "execution_count": 5,
   "source": [
    "text_to_translate = \"Hello\"\r\n",
    "translation = translate_text(cog_location, cog_key, text_to_translate, to_lang='zh-CN', from_lang='en-US')\r\n",
    "print('{} -> {}'.format(text_to_translate,translation))"
   ],
   "outputs": [
    {
     "output_type": "stream",
     "name": "stdout",
     "text": [
      "Hello -> 你好\n"
     ]
    }
   ],
   "metadata": {}
  }
 ],
 "metadata": {
  "orig_nbformat": 4,
  "language_info": {
   "name": "python",
   "version": "3.8.8",
   "mimetype": "text/x-python",
   "codemirror_mode": {
    "name": "ipython",
    "version": 3
   },
   "pygments_lexer": "ipython3",
   "nbconvert_exporter": "python",
   "file_extension": ".py"
  },
  "kernelspec": {
   "name": "python3",
   "display_name": "Python 3.8.8 64-bit ('base': conda)"
  },
  "interpreter": {
   "hash": "f4d2fc3f9599656570a986cacd0f8fb633e1f5eb6c0d7edd902095b821fab887"
  }
 },
 "nbformat": 4,
 "nbformat_minor": 2
}
